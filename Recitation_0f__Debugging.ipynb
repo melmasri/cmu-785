{
 "cells": [
  {
   "cell_type": "markdown",
   "metadata": {
    "id": "-IopG3Eoo7Oc"
   },
   "source": [
    "# Recitation 0H Debugging\n",
    "Debugging your code is an indispensable skill when training a model. \n"
   ]
  },
  {
   "cell_type": "markdown",
   "metadata": {
    "id": "u3es1CObplIF"
   },
   "source": [
    "#  Debugging\n",
    "\n",
    "We will discuss three different ways to debug:\n",
    "- Print\n",
    "- Logging\n",
    "- Python Debugger (Pdb)"
   ]
  },
  {
   "cell_type": "markdown",
   "metadata": {
    "id": "OafOD6B4pwVf"
   },
   "source": [
    "**1. Print**"
   ]
  },
  {
   "cell_type": "code",
   "execution_count": null,
   "metadata": {
    "colab": {
     "base_uri": "https://localhost:8080/"
    },
    "id": "VmTZSrzyowvA",
    "outputId": "7a01e53f-ff3d-4be7-fbae-ab1dfd947c7e"
   },
   "outputs": [
    {
     "name": "stdout",
     "output_type": "stream",
     "text": [
      "Numpy array: \n",
      "Shape of n_vector: (1, 4)\n",
      "Type of n_vector: <class 'numpy.ndarray'>\n",
      "Data type of n_vector: float64\n",
      "\n",
      "Torch tensor: \n",
      "Shape of t_vector: torch.Size([1, 4])\n",
      "Type of t_vector: <class 'torch.Tensor'>\n",
      "Data type of t_vector: torch.float64\n"
     ]
    }
   ],
   "source": [
    "import torch  \n",
    "import numpy as np\n",
    "import random\n",
    "\n",
    "n_vector = np.random.rand(random.randint(1,5), random.randint(1,5))\n",
    "\n",
    "print('Numpy array: ')\n",
    "print(\"Shape of n_vector: {}\".format(n_vector.shape))\n",
    "print(\"Type of n_vector: {}\".format(type(n_vector)))\n",
    "print(\"Data type of n_vector: {}\\n\".format(n_vector.dtype))\n",
    "\n",
    "t_vector = torch.from_numpy(n_vector)\n",
    "\n",
    "print('Torch tensor: ')\n",
    "print(\"Shape of t_vector: {}\".format(t_vector.shape))\n",
    "print(\"Type of t_vector: {}\".format(type(t_vector)))\n",
    "print(\"Data type of t_vector: {}\".format(t_vector.dtype))"
   ]
  },
  {
   "cell_type": "code",
   "execution_count": null,
   "metadata": {
    "colab": {
     "base_uri": "https://localhost:8080/"
    },
    "id": "MGVmLmXBud4B",
    "outputId": "d3f39598-f89e-4ae4-f13e-f31c51a98afb"
   },
   "outputs": [
    {
     "name": "stdout",
     "output_type": "stream",
     "text": [
      "Original data:\n",
      " [0.98463579 0.49227233 0.56019981 0.59206509 0.21016611 0.84310168]\n",
      "Result in 0-th iteration:\n",
      " [0.98463579 0.         0.         0.         0.         0.        ]\n",
      "Result in 1-th iteration:\n",
      " [0.98463579 1.47690812 0.         0.         0.         0.        ]\n",
      "Result in 2-th iteration:\n",
      " [0.98463579 1.47690812 2.03710793 0.         0.         0.        ]\n",
      "Result in 3-th iteration:\n",
      " [0.98463579 1.47690812 2.03710793 2.62917302 0.         0.        ]\n",
      "Result in 4-th iteration:\n",
      " [0.98463579 1.47690812 2.03710793 2.62917302 2.83933913 0.        ]\n",
      "Result in 5-th iteration:\n",
      " [0.98463579 1.47690812 2.03710793 2.62917302 2.83933913 3.68244082]\n"
     ]
    }
   ],
   "source": [
    "import numpy as np\n",
    "import random \n",
    "\n",
    "length = random.randint(5,7)\n",
    "data = np.random.rand(length)\n",
    "print('Original data:\\n {}'.format(data))\n",
    "\n",
    "sum = 0\n",
    "result = np.zeros(length)\n",
    "for i in range(length):\n",
    "  sum += data[i]\n",
    "  result[i] = sum\n",
    "  print('Result in {}-th iteration:\\n {}'.format(i, result))\n"
   ]
  },
  {
   "cell_type": "markdown",
   "metadata": {
    "id": "F_KtKq11vM6o"
   },
   "source": [
    "**2. Logging**\n",
    "\n",
    "Logging is  more  powerful than print statements. \n",
    "Both logging and print statements allow to us to check whether the code is working, but logging has some additional advantages: \n",
    "- Logging uses severity levels to differentiate  which messages are  important and  which are not. \n",
    "- Logging allows to print to a file such that you can leave behind breadcrumbs to trace back to the point where the code breaks. \n",
    "-  Logging can give context information like time and file name etc.\n",
    "\n",
    "https://akshatgupta57.medium.com/logging-in-python-a-gentle-introduction-63150cd297d0"
   ]
  },
  {
   "cell_type": "code",
   "execution_count": null,
   "metadata": {
    "colab": {
     "base_uri": "https://localhost:8080/"
    },
    "id": "j5Q_BrgAvMkO",
    "outputId": "d845d584-84ee-4522-cac4-65781e0e8b7b"
   },
   "outputs": [
    {
     "name": "stderr",
     "output_type": "stream",
     "text": [
      "WARNING:root:Original data:\n",
      " [0.2192342  0.86467726 0.47783085 0.0825904  0.71537933 0.30814816]\n",
      "WARNING:root:Result in 0-th iteration:\n",
      " [0.2192342 0.        0.        0.        0.        0.       ]\n",
      "WARNING:root:Result in 1-th iteration:\n",
      " [0.2192342  1.08391146 0.         0.         0.         0.        ]\n",
      "WARNING:root:Result in 2-th iteration:\n",
      " [0.2192342  1.08391146 1.56174231 0.         0.         0.        ]\n",
      "WARNING:root:Result in 3-th iteration:\n",
      " [0.2192342  1.08391146 1.56174231 1.64433271 0.         0.        ]\n",
      "WARNING:root:Result in 4-th iteration:\n",
      " [0.2192342  1.08391146 1.56174231 1.64433271 2.35971205 0.        ]\n",
      "WARNING:root:Result in 5-th iteration:\n",
      " [0.2192342  1.08391146 1.56174231 1.64433271 2.35971205 2.66786021]\n"
     ]
    }
   ],
   "source": [
    "import numpy as np\n",
    "import  random \n",
    "import logging\n",
    "\n",
    "#Configuring logger\n",
    "MSGFORMAT = '%(asctime)s  ::  %(levelname)s   :  %(message)s'\n",
    "DATEFMT = '%m/%d/%Y %I:$M:%S  %p' \n",
    "logging.basicConfig(level = logging.WARNING, format = MSGFORMAT, datefmt = DATEFMT)\n",
    "\n",
    "length = random.randint(5,7)\n",
    "data = np.random.rand(length)\n",
    "logging.warning('Original data:\\n {}'.format(data))\n",
    "\n",
    "sum = 0 \n",
    "result = np.zeros(length)\n",
    "for i in range(length):\n",
    "  sum += data[i]\n",
    "  result[i] = sum\n",
    "  logging.warning('Result in {}-th iteration:\\n {}'.format(i, result))"
   ]
  },
  {
   "cell_type": "markdown",
   "metadata": {
    "id": "qNLfphE41cP8"
   },
   "source": [
    "**3.  Python Debugger (Pdb)**"
   ]
  },
  {
   "cell_type": "code",
   "execution_count": null,
   "metadata": {
    "colab": {
     "base_uri": "https://localhost:8080/"
    },
    "id": "gUg5ome1ujmm",
    "outputId": "97169129-8189-4906-bf2d-1edf16da347c"
   },
   "outputs": [
    {
     "name": "stdout",
     "output_type": "stream",
     "text": [
      "Original data:\n",
      " [0.21436657 0.89327575 0.53939714 0.83764942 0.26559728]\n",
      "Result in 0-th iteration:\n",
      " [0.21436657 0.         0.         0.         0.        ]\n",
      "Result in 1-th iteration:\n",
      " [0.21436657 1.10764232 0.         0.         0.        ]\n",
      "Result in 2-th iteration:\n",
      " [0.21436657 1.10764232 1.64703946 0.         0.        ]\n",
      "Result in 3-th iteration:\n",
      " [0.21436657 1.10764232 1.64703946 2.48468887 0.        ]\n",
      "Result in 4-th iteration:\n",
      " [0.21436657 1.10764232 1.64703946 2.48468887 2.75028615]\n"
     ]
    }
   ],
   "source": [
    "import pdb\n",
    "import numpy as np\n",
    "import random\n",
    "\n",
    "length = random.randint(5,7)\n",
    "data = np.random.rand(length)\n",
    "print('Original data:\\n {}'.format(data))\n",
    "\n",
    "sum = 0\n",
    "result = np.zeros(length)\n",
    "for i in range(length):\n",
    "  # pdb.set_trace()\n",
    "  sum += data[i]\n",
    "  result[i] = sum\n",
    "  print('Result in {}-th iteration:\\n {}'.format(i, result))\n",
    "  "
   ]
  }
 ],
 "metadata": {
  "colab": {
   "name": "Recitation_0H_ Debugging.ipynb",
   "provenance": []
  },
  "kernelspec": {
   "display_name": "Python 3 (ipykernel)",
   "language": "python",
   "name": "python3"
  },
  "language_info": {
   "codemirror_mode": {
    "name": "ipython",
    "version": 3
   },
   "file_extension": ".py",
   "mimetype": "text/x-python",
   "name": "python",
   "nbconvert_exporter": "python",
   "pygments_lexer": "ipython3",
   "version": "3.7.11"
  }
 },
 "nbformat": 4,
 "nbformat_minor": 1
}
