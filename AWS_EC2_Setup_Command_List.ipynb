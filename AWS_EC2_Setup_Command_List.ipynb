{
 "cells": [
  {
   "cell_type": "markdown",
   "metadata": {
    "id": "O0EBMXqDsCal"
   },
   "source": [
    "# Part 3 Video"
   ]
  },
  {
   "cell_type": "markdown",
   "metadata": {
    "id": "Lz-SFme-taaq"
   },
   "source": [
    "## EBS Setup Command"
   ]
  },
  {
   "cell_type": "code",
   "execution_count": null,
   "metadata": {
    "id": "YQkGsITqtaaq"
   },
   "outputs": [],
   "source": [
    "sudo mkfs -t xfs /dev/nvme1n1\n",
    "sudo mkdir ~/data\n",
    "sudo mount /dev/nvme1n1 ~/data\n",
    "cd ~/data\n",
    "sudo chmod go+rw .\n",
    "cd .."
   ]
  },
  {
   "cell_type": "markdown",
   "metadata": {
    "id": "5rkG_nW5taar"
   },
   "source": [
    "## EFS Setup Command"
   ]
  },
  {
   "cell_type": "code",
   "execution_count": null,
   "metadata": {
    "id": "hLokNUw4taar"
   },
   "outputs": [],
   "source": [
    "mkdir ~/efs\n",
    "FS_ID=file-system-id REGION=us-east-2 && sudo mount -t nfs4 -o nfsvers=4.1,rsize=1048576,wsize=1048576,hard,timeo=600,retrans=2,noresvport $FS_ID.efs.$REGION.amazonaws.com:/ ~/efs\n",
    "cd ~/efs\n",
    "sudo chmod go+rw ."
   ]
  },
  {
   "cell_type": "markdown",
   "metadata": {
    "id": "Hkgd_7c6taar"
   },
   "source": [
    "## Miniconda3"
   ]
  },
  {
   "cell_type": "code",
   "execution_count": null,
   "metadata": {
    "id": "GVxcwj7ftaar"
   },
   "outputs": [],
   "source": [
    "wget downloadlink\n",
    "sha256sum filename\n",
    "bash Miniconda3-py38_latest-Linux-x86_64.sh\n",
    "pip install kaggle\n",
    "conda install jupyter\n",
    "\n",
    "conda clean -a"
   ]
  },
  {
   "cell_type": "markdown",
   "metadata": {
    "id": "KHcjdPQ3taar"
   },
   "source": [
    "## Code to generate hashed password"
   ]
  },
  {
   "cell_type": "code",
   "execution_count": null,
   "metadata": {
    "id": "5HBMlZ_vtaar"
   },
   "outputs": [],
   "source": [
    "from notebook.auth import passwd\n",
    "my_password = \"password\" # set your desired password here\n",
    "hashed_password = passwd(passphrase=my_password, algorithm='sha256')\n",
    "print(hashed_password) # copy the hashed password\n"
   ]
  },
  {
   "cell_type": "markdown",
   "metadata": {
    "id": "txha_15wtaas"
   },
   "source": [
    "##  Kaggle"
   ]
  },
  {
   "cell_type": "code",
   "execution_count": null,
   "metadata": {
    "id": "g8lVwav9taas"
   },
   "outputs": [],
   "source": [
    "mkdir ~/.kaggle"
   ]
  },
  {
   "cell_type": "code",
   "execution_count": null,
   "metadata": {
    "id": "yk9MQRLetaas"
   },
   "outputs": [],
   "source": [
    "{\"username\":\"your-username \",\"key\":\"your-key\"}"
   ]
  },
  {
   "cell_type": "markdown",
   "metadata": {
    "id": "9Izky5uptaas"
   },
   "source": [
    "## jupyter_server_config.py"
   ]
  },
  {
   "cell_type": "code",
   "execution_count": null,
   "metadata": {
    "id": "C0i1QnJItaas"
   },
   "outputs": [],
   "source": [
    "mkdir ~/.jupyter"
   ]
  },
  {
   "cell_type": "code",
   "execution_count": null,
   "metadata": {
    "id": "DQ2RMBXDtaas"
   },
   "outputs": [],
   "source": [
    "c.ServerApp.ip = '*' # bind to any network interface\n",
    "c.ServerApp.password = u'sha256:bcd259ccf...<your hashed password here>'\n",
    "c.ServerApp.open_browser = False\n",
    "c.ServerApp.port = 8888 # or any other ports you'd like"
   ]
  },
  {
   "cell_type": "markdown",
   "metadata": {
    "id": "Vf2P9T9ctaas"
   },
   "source": [
    "## Tar environment and configs"
   ]
  },
  {
   "cell_type": "code",
   "execution_count": null,
   "metadata": {
    "id": "h8i5hbATtaas"
   },
   "outputs": [],
   "source": [
    "tar -cf ~/efs/dl-env.tar ./miniconda3 .kaggle .jupyter .conda .bashrc"
   ]
  },
  {
   "cell_type": "markdown",
   "metadata": {
    "id": "l2mBQJ5Xtaas"
   },
   "source": [
    "## Untar in new instance"
   ]
  },
  {
   "cell_type": "code",
   "execution_count": null,
   "metadata": {
    "id": "sgCzawY8taat"
   },
   "outputs": [],
   "source": [
    "tar -xf efs/dl-env.tar # will run for ~2 minutes\n",
    "source .bashrc"
   ]
  },
  {
   "cell_type": "markdown",
   "metadata": {
    "id": "57MXzGHdtaat"
   },
   "source": [
    "## Update the changes"
   ]
  },
  {
   "cell_type": "code",
   "execution_count": null,
   "metadata": {
    "id": "5iyXW7y4taat"
   },
   "outputs": [],
   "source": [
    "tar -uvf efs/dl-env.tar miniconda3/ .conda # assuming environment update"
   ]
  },
  {
   "cell_type": "markdown",
   "metadata": {
    "id": "EmO2-mBhsNWw"
   },
   "source": [
    "# Part 4 Video"
   ]
  },
  {
   "cell_type": "markdown",
   "metadata": {
    "id": "5j7FCSK6sxyA"
   },
   "source": [
    "## Screen Command"
   ]
  },
  {
   "cell_type": "code",
   "execution_count": null,
   "metadata": {
    "id": "TJwck5c_sPqR"
   },
   "outputs": [],
   "source": [
    "# create a new session\n",
    "screen -S\n",
    "screen -S <session_name> \n",
    "\n",
    "# detach from current running session\n",
    "# Ctrl+A and then D\n",
    "\n",
    "# attach to a session\n",
    "screen -r\n",
    "screen -r <session_name>"
   ]
  },
  {
   "cell_type": "markdown",
   "metadata": {
    "id": "nGXr1yrctQtz"
   },
   "source": [
    "## Jupyter Lab"
   ]
  },
  {
   "cell_type": "code",
   "execution_count": null,
   "metadata": {
    "id": "P0M20iXdtSiN"
   },
   "outputs": [],
   "source": [
    "jupyter lab"
   ]
  }
 ],
 "metadata": {
  "colab": {
   "collapsed_sections": [
    "O0EBMXqDsCal",
    "EmO2-mBhsNWw"
   ],
   "name": "AWS-EC2-Setup-Command-List.ipynb",
   "provenance": []
  },
  "kernelspec": {
   "display_name": "Python 3 (ipykernel)",
   "language": "python",
   "name": "python3"
  },
  "language_info": {
   "codemirror_mode": {
    "name": "ipython",
    "version": 3
   },
   "file_extension": ".py",
   "mimetype": "text/x-python",
   "name": "python",
   "nbconvert_exporter": "python",
   "pygments_lexer": "ipython3",
   "version": "3.7.11"
  }
 },
 "nbformat": 4,
 "nbformat_minor": 1
}
